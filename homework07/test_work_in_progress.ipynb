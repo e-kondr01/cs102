{
 "cells": [
  {
   "cell_type": "code",
   "execution_count": 3,
   "metadata": {},
   "outputs": [
    {
     "output_type": "stream",
     "name": "stdout",
     "text": "<_io.BufferedReader name='C:\\\\cs102\\\\homework07\\\\index.html'>\nb'<html>Directory index file</html>\\n'\n"
    }
   ],
   "source": [
    "f = open('C:\\\\cs102\\\\homework07\\\\index.html', 'rb')\n",
    "print(f)\n",
    "print(f.read())"
   ]
  },
  {
   "cell_type": "code",
   "execution_count": 4,
   "metadata": {},
   "outputs": [
    {
     "output_type": "stream",
     "name": "stdout",
     "text": "b'123HTTP/1.1 code responses[code]\\r\\n'\n"
    }
   ],
   "source": [
    "s = b'123'\n",
    "s += 'HTTP/1.1 code responses[code]\\r\\n'.encode()\n",
    "print(s)"
   ]
  },
  {
   "cell_type": "code",
   "execution_count": null,
   "metadata": {},
   "outputs": [],
   "source": []
  }
 ],
 "metadata": {
  "language_info": {
   "name": "python",
   "codemirror_mode": {
    "name": "ipython",
    "version": 3
   },
   "version": "3.7.5-final"
  },
  "orig_nbformat": 2,
  "file_extension": ".py",
  "mimetype": "text/x-python",
  "name": "python",
  "npconvert_exporter": "python",
  "pygments_lexer": "ipython3",
  "version": 3,
  "kernelspec": {
   "name": "python37564bit4c1039a1e4ec4fcba691ebcd58d04952",
   "display_name": "Python 3.7.5 64-bit"
  }
 },
 "nbformat": 4,
 "nbformat_minor": 2
}