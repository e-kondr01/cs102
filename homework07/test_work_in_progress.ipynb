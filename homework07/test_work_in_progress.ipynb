{
 "cells": [
  {
   "cell_type": "code",
   "execution_count": 3,
   "metadata": {},
   "outputs": [
    {
     "output_type": "stream",
     "name": "stdout",
     "text": "<_io.BufferedReader name='C:\\\\cs102\\\\homework07\\\\index.html'>\nb'<html>Directory index file</html>\\n'\n"
    }
   ],
   "source": [
    "f = open('C:\\\\cs102\\\\homework07\\\\index.html', 'rb')\n",
    "print(f)\n",
    "print(f.read())"
   ]
  },
  {
   "cell_type": "code",
   "execution_count": 4,
   "metadata": {},
   "outputs": [
    {
     "output_type": "stream",
     "name": "stdout",
     "text": "b'123HTTP/1.1 code responses[code]\\r\\n'\n"
    }
   ],
   "source": [
    "s = b'123'\n",
    "s += 'HTTP/1.1 code responses[code]\\r\\n'.encode()\n",
    "print(s)"
   ]
  },
  {
   "cell_type": "code",
   "execution_count": 2,
   "metadata": {},
   "outputs": [
    {
     "output_type": "stream",
     "name": "stdout",
     "text": "<_io.BufferedReader name='index.html'>\n"
    }
   ],
   "source": [
    "f = open('index.html', 'rb')\n",
    "print(f)"
   ]
  },
  {
   "cell_type": "code",
   "execution_count": 4,
   "metadata": {},
   "outputs": [
    {
     "output_type": "stream",
     "name": "stdout",
     "text": "405\n"
    }
   ],
   "source": [
    "import requests\n",
    "\n",
    "r = requests.post(f\"http://localhost:9000/dir1/page.html\")\n",
    "print(r.status_code)\n"
   ]
  },
  {
   "cell_type": "code",
   "execution_count": 7,
   "metadata": {},
   "outputs": [
    {
     "output_type": "stream",
     "name": "stdout",
     "text": "55\n"
    }
   ],
   "source": [
    "length = r.headers.get(\"Content-Length\")\n",
    "print(int(length))"
   ]
  },
  {
   "cell_type": "code",
   "execution_count": 10,
   "metadata": {},
   "outputs": [
    {
     "output_type": "stream",
     "name": "stdout",
     "text": "34\n<html>Directory index file</html>\n\n"
    }
   ],
   "source": [
    "data = r.content.decode()\n",
    "print(len(data))\n",
    "print(data)"
   ]
  },
  {
   "cell_type": "code",
   "execution_count": 20,
   "metadata": {},
   "outputs": [
    {
     "output_type": "error",
     "ename": "PermissionError",
     "evalue": "[Errno 13] Permission denied: 'c:\\\\cs102\\\\homework07\\\\403'",
     "traceback": [
      "\u001b[1;31m---------------------------------------------------------------------------\u001b[0m",
      "\u001b[1;31mPermissionError\u001b[0m                           Traceback (most recent call last)",
      "\u001b[1;32m<ipython-input-20-9bbaf3b111f4>\u001b[0m in \u001b[0;36m<module>\u001b[1;34m\u001b[0m\n\u001b[0;32m      2\u001b[0m \u001b[0mroot\u001b[0m \u001b[1;33m=\u001b[0m \u001b[0mPath\u001b[0m\u001b[1;33m.\u001b[0m\u001b[0mcwd\u001b[0m\u001b[1;33m(\u001b[0m\u001b[1;33m)\u001b[0m\u001b[1;33m\u001b[0m\u001b[1;33m\u001b[0m\u001b[0m\n\u001b[0;32m      3\u001b[0m \u001b[0mpath\u001b[0m \u001b[1;33m=\u001b[0m \u001b[0mroot\u001b[0m \u001b[1;33m/\u001b[0m \u001b[1;34m'403/'\u001b[0m\u001b[1;33m\u001b[0m\u001b[1;33m\u001b[0m\u001b[0m\n\u001b[1;32m----> 4\u001b[1;33m \u001b[0mf\u001b[0m \u001b[1;33m=\u001b[0m \u001b[0mopen\u001b[0m\u001b[1;33m(\u001b[0m\u001b[0mpath\u001b[0m\u001b[1;33m,\u001b[0m \u001b[1;34m'r'\u001b[0m\u001b[1;33m)\u001b[0m\u001b[1;33m\u001b[0m\u001b[1;33m\u001b[0m\u001b[0m\n\u001b[0m\u001b[0;32m      5\u001b[0m \u001b[0mprint\u001b[0m\u001b[1;33m(\u001b[0m\u001b[0mf\u001b[0m\u001b[1;33m)\u001b[0m\u001b[1;33m\u001b[0m\u001b[1;33m\u001b[0m\u001b[0m\n",
      "\u001b[1;31mPermissionError\u001b[0m: [Errno 13] Permission denied: 'c:\\\\cs102\\\\homework07\\\\403'"
     ]
    }
   ],
   "source": [
    "from pathlib import Path\n",
    "root = Path.cwd()\n",
    "path = root / '403/'\n",
    "f = open(path, 'r')\n",
    "print(f)"
   ]
  },
  {
   "cell_type": "code",
   "execution_count": null,
   "metadata": {},
   "outputs": [],
   "source": [
    "def initiate_send(self):\n",
    "        while self.producer_fifo and self.connected:\n",
    "            first = self.producer_fifo[0]\n",
    "            # handle empty string/buffer or None entry\n",
    "            if not first:\n",
    "                del self.producer_fifo[0]\n",
    "                if first is None:\n",
    "                    self.handle_close()\n",
    "                    return\n",
    "\n",
    "            # handle classic producer behavior\n",
    "            obs = self.ac_out_buffer_size\n",
    "            try:\n",
    "                data = first[:obs]\n",
    "            except TypeError:\n",
    "                data = first.more()\n",
    "                if data:\n",
    "                    self.producer_fifo.appendleft(data)\n",
    "                else:\n",
    "                    del self.producer_fifo[0]\n",
    "                continue\n",
    "\n",
    "            if isinstance(data, str) and self.use_encoding:\n",
    "                data = bytes(data, self.encoding)\n",
    "\n",
    "            # send the data\n",
    "            try:\n",
    "                num_sent = self.send(data)\n",
    "            except OSError:\n",
    "                self.handle_error()\n",
    "                return\n",
    "\n",
    "            if num_sent:\n",
    "                if num_sent < len(data) or obs < len(first):\n",
    "                    self.producer_fifo[0] = first[num_sent:]\n",
    "                else:\n",
    "                    del self.producer_fifo[0]\n",
    "            # we tried to send some actual data\n",
    "            return"
   ]
  }
 ],
 "metadata": {
  "language_info": {
   "name": "python",
   "codemirror_mode": {
    "name": "ipython",
    "version": 3
   },
   "version": "3.7.5-final"
  },
  "orig_nbformat": 2,
  "file_extension": ".py",
  "mimetype": "text/x-python",
  "name": "python",
  "npconvert_exporter": "python",
  "pygments_lexer": "ipython3",
  "version": 3,
  "kernelspec": {
   "name": "python37564bit4c1039a1e4ec4fcba691ebcd58d04952",
   "display_name": "Python 3.7.5 64-bit"
  }
 },
 "nbformat": 4,
 "nbformat_minor": 2
}